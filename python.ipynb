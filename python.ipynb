{
  "nbformat": 4,
  "nbformat_minor": 0,
  "metadata": {
    "colab": {
      "provenance": []
    },
    "kernelspec": {
      "name": "python3",
      "display_name": "Python 3"
    },
    "language_info": {
      "name": "python"
    }
  },
  "cells": [
    {
      "cell_type": "code",
      "source": [
        "def celsius_to_fahrenheit(celsius):\n",
        "    fahrenheit = (celsius * 9/5) + 32\n",
        "    return fahrenheit\n",
        "temp_celsius = 25\n",
        "temp_fahrenheit = celsius_to_fahrenheit(temp_celsius)\n",
        "print(f\"{temp_celsius}°C is equal to {temp_fahrenheit}°F\")"
      ],
      "metadata": {
        "colab": {
          "base_uri": "https://localhost:8080/"
        },
        "id": "ZbwIm1BYuybo",
        "outputId": "dbc80911-750c-4058-e895-a004f84fb51b"
      },
      "execution_count": 9,
      "outputs": [
        {
          "output_type": "stream",
          "name": "stdout",
          "text": [
            "25°C is equal to 77.0°F\n"
          ]
        }
      ]
    },
    {
      "cell_type": "code",
      "execution_count": 10,
      "metadata": {
        "id": "uVuP4FO3roct"
      },
      "outputs": [],
      "source": [
        "def check_age():\n",
        "  age=int(input(\"Enter your age:\"))\n",
        "  if age>= 18:\n",
        "    print(\"your are an adult\")\n",
        "  else:\n",
        "      print(\"you are not an adult\")"
      ]
    },
    {
      "cell_type": "code",
      "source": [
        "\n",
        " check_age()"
      ],
      "metadata": {
        "colab": {
          "base_uri": "https://localhost:8080/"
        },
        "id": "i6htyGJkuCs_",
        "outputId": "82413282-bea5-427f-eca3-b49622b44cbf"
      },
      "execution_count": 11,
      "outputs": [
        {
          "output_type": "stream",
          "name": "stdout",
          "text": [
            "Enter your age:19\n",
            "your are an adult\n"
          ]
        }
      ]
    }
  ]
}